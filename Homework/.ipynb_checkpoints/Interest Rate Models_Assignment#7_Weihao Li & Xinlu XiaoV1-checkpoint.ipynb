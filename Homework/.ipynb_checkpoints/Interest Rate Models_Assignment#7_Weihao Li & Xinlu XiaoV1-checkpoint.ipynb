{
 "cells": [
  {
   "cell_type": "markdown",
   "metadata": {},
   "source": [
    "## Interest Rate Models Assignment 07\n",
    "### Weihao Li, Xinlu Xiao"
   ]
  },
  {
   "cell_type": "code",
   "execution_count": 73,
   "metadata": {
    "collapsed": true
   },
   "outputs": [],
   "source": [
    "# import packages\n",
    "import numpy as np\n",
    "from math import *\n",
    "import matplotlib.pyplot as plt\n",
    "from scipy.interpolate import splev, splrep, splint\n",
    "from scipy.stats import norm\n",
    "import time"
   ]
  },
  {
   "cell_type": "code",
   "execution_count": 74,
   "metadata": {
    "collapsed": false
   },
   "outputs": [],
   "source": [
    "# Curve class\n",
    "\n",
    "class Curve():\n",
    "    def __init__(self, in_k, in_fi):\n",
    "        '''\n",
    "        in_k: knot points\n",
    "        in_fi: knot values\n",
    "        '''\n",
    "        self._k  = in_k\n",
    "        self._fi = in_fi\n",
    "        self.tck = splrep(self._k, self._fi) \n",
    "        \n",
    "    # calculate the OIS and LIBOR instantaneous rate\n",
    "    def instantaneous_rate(self, in_time):\n",
    "        '''\n",
    "        in_time: evaluated point\n",
    "        '''\n",
    "        return splev(in_time,self.tck)\n",
    "    \n",
    "    # calculate the derivitive of the curve\n",
    "    def dev(self,in_time,d):\n",
    "        '''\n",
    "        in_time: evaluated point\n",
    "        d: derivative degree\n",
    "        '''\n",
    "        return splev(in_time,self.tck,der = d)\n",
    "                     \n",
    "    # calculate the discount factor\n",
    "    def disc_factor(self, start_time, end_time):\n",
    "        return exp(-splint(start_time, end_time, self.tck))\n",
    "                     \n",
    "    # calculate the forward rate\n",
    "    def forward_rate(self, start_time, end_time):\n",
    "        return (exp(splint(start_time,end_time,self.tck))-1)/(end_time-start_time)"
   ]
  },
  {
   "cell_type": "code",
   "execution_count": 75,
   "metadata": {
    "collapsed": false
   },
   "outputs": [],
   "source": [
    "class spectual_decomposition:\n",
    "    def __init__(self,dt,time_point):\n",
    "        self.cov = np.zeros((time_point,time_point))\n",
    "        self.time_point = time_point\n",
    "        self.dt         = dt\n",
    "        \n",
    "        for i in range(time_point):\n",
    "            for j in range(time_point):\n",
    "                self.cov[i][j] = (min(i,j) + 1)*dt\n",
    "        self.eigen_val, self.eigen_vec = np.linalg.eig(self.cov)\n",
    "        \n",
    "    def generate_brownian(self):\n",
    "        normals = np.random.randn(self.time_point)\n",
    "        self.w_t = np.zeros(self.time_point)\n",
    "        for i in range(self.time_point):\n",
    "                self.w_t[i] = sum(np.sqrt(self.eigen_val)*normals*self.eigen_vec[i])\n",
    "        \n",
    "        \n",
    "        \n",
    "        self.w_t = np.insert(0.0,1,self.w_t)\n",
    "        self.dw_t= np.diff(self.w_t)\n",
    "        \n",
    "    def get_dw_t(self):\n",
    "        val = self.dw_t[0]\n",
    "        self.dw_t = self.dw_t[1:]\n",
    "        return val\n",
    "        "
   ]
  },
  {
   "cell_type": "code",
   "execution_count": 76,
   "metadata": {
    "collapsed": false
   },
   "outputs": [],
   "source": [
    "class three_month_lmm:\n",
    "    def __init__(self,set_t,steps,mut_t,libor_init,frozen = False):\n",
    "        self.set_t      = set_t\n",
    "        self.periods    = mut_t*4\n",
    "        self.steps      = steps\n",
    "        self.dt         = 1.0/(steps*1.0)\n",
    "        self.vol        = 0.0085\n",
    "        self.libor      = np.zeros((self.periods,steps+1))\n",
    "        self.libor[:,0] = libor_init\n",
    "        self.interval   = np.array([0.25*i for i in range(mut_t)])\n",
    "        self.frozen     =  frozen\n",
    "        self.rand_gen   = spectual_decomposition(self.dt,self.steps)\n",
    "    def simulate(self):\n",
    "        self.rand_gen.generate_brownian()\n",
    "        for i in range(self.steps):\n",
    "            d_w = self.rand_gen.get_dw_t()\n",
    "            for j in range(self.periods):\n",
    "                increment          =  ( self.drift(j,i)*self.dt + self.vol*d_w)\n",
    "                self.libor[j][i+1]= max(self.libor[j][i] + increment,0)\n",
    "        return self.libor[:,-1]          \n",
    "    \n",
    "    def drift(self,j,time):\n",
    "        drift = 0\n",
    "        if self.frozen == False:\n",
    "            for i in range(j,self.periods):\n",
    "                drift -= 0.25 *self.vol*self.vol/(1 +0.25* self.libor[i][0])\n",
    "        else:\n",
    "            for i in range(j,self.periods):\n",
    "                if time >0:\n",
    "                    drift -= 0.25 *self.vol*self.vol/(1 +0.25* self.libor[i][time-1])\n",
    "                else:\n",
    "                    drift -= 0.25 *self.vol*self.vol/(1 +0.25* self.libor[i][time])\n",
    "        return drift      "
   ]
  },
  {
   "cell_type": "code",
   "execution_count": 87,
   "metadata": {
    "collapsed": false
   },
   "outputs": [],
   "source": [
    "class swaption():\n",
    "    def __init__(self,libor_market,ois, f_freq = 2.0, f_notional = 100, f_maturity = 10.0, vol = 0.0085, f_strike = 0.03872, frozen = False):\n",
    "        \n",
    "        self.libor_market = libor_market\n",
    "        self.ois          = ois  \n",
    "        self.f_freq       = f_freq\n",
    "        self.f_notional   = f_notional\n",
    "        self.f_maturity   = f_maturity\n",
    "        self.vol          = vol\n",
    "        self.f_strike     = f_strike\n",
    "        self.frozen       = frozen       \n",
    "    \n",
    "    def simulate(self, start_year,i_MC):\n",
    "        tmp_value = 0.0\n",
    "        fixed_tenor = 1.0/self.f_freq\n",
    "        for i in range(i_MC):\n",
    "            libor_forward = self.libor_market.simulate()\n",
    "            \n",
    "            # fixed leg\n",
    "            maturity = self.f_maturity\n",
    "            fixed_ = 0.0\n",
    "            while maturity > 0:\n",
    "                fixed_   += fixed_tenor * self.f_strike * ois.disc_factor(start_year, maturity+1)\n",
    "                maturity -= fixed_tenor\n",
    "    \n",
    "            # floating leg\n",
    "            maturity = self.f_maturity\n",
    "            float_ = 0.0\n",
    "            while maturity > 0:\n",
    "                float_   += 0.25 * libor_forward[int((self.f_maturity-maturity)/0.25)]*ois.disc_factor(start_year,maturity+1)\n",
    "                maturity -= .25 \n",
    "    \n",
    "            value_ = (float_ - fixed_)*self.f_notional\n",
    "            if value_ > 0:\n",
    "                tmp_value += value_\n",
    "            else:\n",
    "                tmp_value += 0.0\n",
    "    \n",
    "        simulated_value = tmp_value*ois.disc_factor(0,start_year)/i_MC\n",
    "        return simulated_value   "
   ]
  },
  {
   "cell_type": "code",
   "execution_count": 88,
   "metadata": {
    "collapsed": false
   },
   "outputs": [],
   "source": [
    "#initialize curves\n",
    "set_t = 1\n",
    "steps = 300\n",
    "mut_t = 10\n",
    "\n",
    "knots_test = [-3.0,-2.0,-1.0,0.0,1.0,2.0,3.0,5.0,7.0,10.0,15.0,20.0,25.0,31.0,32.0,33.0,34.0,35.0]\n",
    "libor_value = [ 0.00948221,  0.01414217, -0.00916129,  0.00544859,  0.00697146,\\\n",
    "                0.00788897,  0.01306847,  0.02447046,  0.03070799,  0.03350761,\\\n",
    "                0.03243098,  0.02976297,  0.0296695 ,  0.02928756,  0.02442423,\\\n",
    "                0.00629273,  0.01080152,  0.00989981]\n",
    "ois_value   = [ 0.00957092,  0.01343255, -0.0058782 ,  0.00088913,  0.00132623,\\\n",
    "                0.00342057,  0.00838131,  0.02080887,  0.02873632,  0.03220095,\\\n",
    "                0.03086699,  0.02893241,  0.02836591,  0.02841898,  0.02334744,\\\n",
    "                0.00656951,  0.01074168,  0.00990729]\n",
    "\n",
    "libor = Curve(knots_test,libor_value)\n",
    "ois   = Curve(knots_test,ois_value)\n",
    "libor_init = np.array([libor.forward_rate(1+i*0.25, 1+(i+1)*0.25 )\\\n",
    "                          for i in range(40)])\n",
    "\n",
    "lmm_model = three_month_lmm(set_t,steps,mut_t,libor_init,frozen = False)"
   ]
  },
  {
   "cell_type": "code",
   "execution_count": 89,
   "metadata": {
    "collapsed": false
   },
   "outputs": [],
   "source": [
    "# create swaption object\n",
    "swaption1 = swaption(lmm_model,ois)"
   ]
  },
  {
   "cell_type": "code",
   "execution_count": 90,
   "metadata": {
    "collapsed": false,
    "scrolled": false
   },
   "outputs": [
    {
     "data": {
      "text/plain": [
       "0.15583600566274861"
      ]
     },
     "execution_count": 90,
     "metadata": {},
     "output_type": "execute_result"
    }
   ],
   "source": [
    "# start from 1Y into 10Y, 2000 simulated path\n",
    "start = time.star\n",
    "swaption1.simulate(1,2000)"
   ]
  },
  {
   "cell_type": "code",
   "execution_count": 91,
   "metadata": {
    "collapsed": false
   },
   "outputs": [
    {
     "data": {
      "text/plain": [
       "0.1627935230645986"
      ]
     },
     "execution_count": 91,
     "metadata": {},
     "output_type": "execute_result"
    }
   ],
   "source": [
    "# start from 1Y into 10Y, 5000 simulated path\n",
    "swaption1.simulate(1,5000)"
   ]
  },
  {
   "cell_type": "code",
   "execution_count": null,
   "metadata": {
    "collapsed": true
   },
   "outputs": [],
   "source": []
  }
 ],
 "metadata": {
  "kernelspec": {
   "display_name": "Python 3",
   "language": "python",
   "name": "python3"
  },
  "language_info": {
   "codemirror_mode": {
    "name": "ipython",
    "version": 3
   },
   "file_extension": ".py",
   "mimetype": "text/x-python",
   "name": "python",
   "nbconvert_exporter": "python",
   "pygments_lexer": "ipython3",
   "version": "3.5.2"
  }
 },
 "nbformat": 4,
 "nbformat_minor": 2
}
