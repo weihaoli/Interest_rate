{
 "cells": [
  {
   "cell_type": "code",
   "execution_count": 13,
   "metadata": {
    "collapsed": true
   },
   "outputs": [],
   "source": [
    "import numpy as np\n",
    "from math import *\n",
    "from scipy.stats import norm"
   ]
  },
  {
   "cell_type": "code",
   "execution_count": 14,
   "metadata": {
    "collapsed": false
   },
   "outputs": [],
   "source": [
    "class three_month_lmm:\n",
    "    def __init__(self,set_t,steps,mut_t,libor_init,frozen = False):\n",
    "        self.set_t      = set_t\n",
    "        self.periods    = mut_t*4\n",
    "        self.steps      = steps\n",
    "        self.dt         = 1.0/(steps*1.0)\n",
    "        self.vol        = 0.0085\n",
    "        self.sqrt_dt    = np.sqrt(self.dt)\n",
    "        self.libor      = np.zeros((self.periods,steps+1))\n",
    "        self.libor[:,0] = libor_init\n",
    "        self.interval   = np.array([0.25*i for i in range(mut_t)])\n",
    "        self.frozen     =  frozen\n",
    "    def simulate(self):     \n",
    "        for i in range(self.steps):\n",
    "            d_w = self.sqrt_dt * np.random.normal()\n",
    "            for j in range(self.periods):\n",
    "                increment          = self.libor[j][i] + self.drift(j,i)\\\n",
    "                *self.dt + self.vol*d_w\n",
    "                self.libor[j][i+1]-= increment\n",
    "        return self.libor[:,-1]          \n",
    "    \n",
    "    def drift(self,j,time):\n",
    "        drift = 0\n",
    "        if j ==  self.periods - 1:\n",
    "            return 0\n",
    "        if self.frozen == False:\n",
    "            for i in range(j,self.periods):\n",
    "                drift -= self.dt *self.vol*self.vol/(1 +self.dt* self.libor[i][0])\n",
    "        else:\n",
    "            for i in range(j,self.periods):\n",
    "                if time >0:\n",
    "                    drift -= self.dt *self.vol*self.vol/(1 +self.dt* self.libor[i][time-1])\n",
    "                else:\n",
    "                    drift -= self.dt *self.vol*self.vol/(1 +self.dt* self.libor[i][time])\n",
    "        return drift\n",
    "                    \n",
    "        "
   ]
  },
  {
   "cell_type": "code",
   "execution_count": 17,
   "metadata": {
    "collapsed": false
   },
   "outputs": [],
   "source": [
    "class swaption():\n",
    "    def __init__(self, i_MC,libor_market,f_oisrate, f_freq = 4.0, f_notional = 100, f_maturity = 10.0, vol = 0.0085, f_strike = 0.003872, frozen = False):\n",
    "        self.i_MC = i_MC\n",
    "        self.libor_market = libor_market\n",
    "        self.f_oisrate = f_oisrate  # 10*4 ndarray created by using the HW01 method as the discount factor rate\n",
    "        self.f_freq = f_freq\n",
    "        self.f_notional = f_notional\n",
    "        self.f_maturity = f_maturity\n",
    "        self.vol = vol\n",
    "        self.f_strike = f_strike\n",
    "        self.frozen = frozen       \n",
    "    \n",
    "    def simulate(self):\n",
    "        tmp_value = 0.0\n",
    "        tenor = 1.0/self.f_freq\n",
    "        for i in range(self.i_MC):\n",
    "            libor_forward = self.libor_market.simulate().T\n",
    "            \n",
    "            value_ = 0.0\n",
    "            for t in range(self.maturity):\n",
    "                for k in range(self.f_freq):\n",
    "                    lb = libor_forward[t,k]\n",
    "                    time_to_mat = self.f_maturity - t - (k+1)*tenor\n",
    "                    ois_discount = disc_factor(self.f_oisrate[t,k], time_to_mat)\n",
    "                    d1 = (log(self.strike/lb) + 0.5*(self.vol)**2*(time_to_mat))/(self.vol*sqrt(time_to_mat))\n",
    "                    d2 = d1 - self.vol * sqrt(time_to_mat)\n",
    "                    \n",
    "                    value += ois_discount*(lb*norm.cdf(-d2) - self.strike*norm.cdf(-d1))\n",
    "            tmp_value += value\n",
    "        simulated_value = self.f_notional*tenor*tmp_value/self.i_MC\n",
    "        return simulated_value\n",
    "    \n",
    "    def disc_factor(self, ois_rate, time_to_maturity):\n",
    "        return exp(-ois_rate*time_to_maturity)      "
   ]
  },
  {
   "cell_type": "code",
   "execution_count": null,
   "metadata": {
    "collapsed": true
   },
   "outputs": [],
   "source": []
  }
 ],
 "metadata": {
  "kernelspec": {
   "display_name": "Python 3",
   "language": "python",
   "name": "python3"
  },
  "language_info": {
   "codemirror_mode": {
    "name": "ipython",
    "version": 3
   },
   "file_extension": ".py",
   "mimetype": "text/x-python",
   "name": "python",
   "nbconvert_exporter": "python",
   "pygments_lexer": "ipython3",
   "version": "3.5.2"
  }
 },
 "nbformat": 4,
 "nbformat_minor": 2
}
