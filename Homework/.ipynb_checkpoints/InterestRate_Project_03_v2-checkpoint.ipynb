{
 "cells": [
  {
   "cell_type": "code",
   "execution_count": 61,
   "metadata": {
    "collapsed": true
   },
   "outputs": [],
   "source": [
    "import numpy as np\n",
    "import pandas as pd\n",
    "from math import *"
   ]
  },
  {
   "cell_type": "code",
   "execution_count": 70,
   "metadata": {
    "collapsed": false
   },
   "outputs": [
    {
     "data": {
      "text/plain": [
       "array([[ 0.0009525 ,  0.00099774,  0.00103863,  0.00108898],\n",
       "       [ 0.00116232,  0.00126977,  0.00141966,  0.00161916],\n",
       "       [ 0.00187469,  0.00218964,  0.0025633 ,  0.00299242],\n",
       "       [ 0.00347223,  0.00399738,  0.00456257,  0.0051625 ],\n",
       "       [ 0.0057919 ,  0.00644549,  0.00711793,  0.00780386],\n",
       "       [ 0.00849785,  0.00919499,  0.0098913 ,  0.01058356],\n",
       "       [ 0.01126914,  0.0119459 ,  0.01261211,  0.01326633],\n",
       "       [ 0.01390737,  0.01453433,  0.01514649,  0.01574337],\n",
       "       [ 0.01632464,  0.01689013,  0.0174398 ,  0.01797374],\n",
       "       [ 0.01849213,  0.01899525,  0.01948348,  0.01995728],\n",
       "       [ 0.02041717,  0.02086371,  0.02129742,  0.02171878]])"
      ]
     },
     "execution_count": 70,
     "metadata": {},
     "output_type": "execute_result"
    }
   ],
   "source": [
    "# read data\n",
    "ois = pd.read_excel('ois.xlsx')[:44]\n",
    "ois_rate = ois.as_matrix().reshape(11,4)\n",
    "ois_rate # ois rate as discount factor rate"
   ]
  },
  {
   "cell_type": "code",
   "execution_count": 71,
   "metadata": {
    "collapsed": false
   },
   "outputs": [],
   "source": [
    "class spectual_decomposition:\n",
    "    def __init__(self,dt,time_point):\n",
    "        self.cov = np.zeros((time_point,time_point))\n",
    "        self.time_point = time_point\n",
    "        self.dt         = dt\n",
    "        \n",
    "        for i in range(time_point):\n",
    "            for j in range(time_point):\n",
    "                self.cov[i][j] = (min(i,j) + 1)*dt\n",
    "        self.eigen_val, self.eigen_vec = np.linalg.eig(self.cov)\n",
    "        \n",
    "    def generate_brownian(self):\n",
    "        self.w_t = np.sum(np.sqrt(self.eigen_val)*self.eigen_vec.T*\\\n",
    "                     np.random.normal(size = self.time_point),axis = 0)\n",
    "        \n",
    "        self.w_t = np.insert(0.0,1,self.w_t)\n",
    "        self.dw_t= np.diff(self.w_t)\n",
    "        \n",
    "    def get_dw_t(self):\n",
    "        val = self.dw_t[0]\n",
    "        self.dw_t = self.dw_t[1:]\n",
    "        return val\n",
    "        "
   ]
  },
  {
   "cell_type": "code",
   "execution_count": 72,
   "metadata": {
    "collapsed": false
   },
   "outputs": [],
   "source": [
    "class three_month_lmm:\n",
    "    def __init__(self,set_t,steps,mut_t,libor_init,frozen = False):\n",
    "        self.set_t      = set_t\n",
    "        self.periods    = mut_t*4\n",
    "        self.steps      = steps\n",
    "        self.dt         = 1.0/(steps*1.0)\n",
    "        self.vol        = 0.0085\n",
    "        self.libor      = np.zeros((self.periods,steps+1))\n",
    "        self.libor[:,0] = libor_init\n",
    "        self.interval   = np.array([0.25*i for i in range(mut_t)])\n",
    "        self.frozen     =  frozen\n",
    "        self.rand_gen   = spectual_decomposition(self.dt,self.steps)\n",
    "    def simulate(self):\n",
    "        self.rand_gen.generate_brownian()\n",
    "        for i in range(self.steps):\n",
    "            d_w = self.rand_gen.get_dw_t()\n",
    "            for j in range(self.periods):\n",
    "                increment          = self.libor[j][i] + self.drift(j,i)\\\n",
    "                *self.dt + self.vol*d_w\n",
    "                self.libor[j][i+1]-= increment\n",
    "        return self.libor[:,-1]          \n",
    "    \n",
    "    def drift(self,j,time):\n",
    "        drift = 0\n",
    "        if j ==  self.periods - 1:\n",
    "            return 0\n",
    "        if self.frozen == False:\n",
    "            for i in range(j,self.periods):\n",
    "                drift -= self.dt *self.vol*self.vol/(1 +self.dt* self.libor[i][0])\n",
    "        else:\n",
    "            for i in range(j,self.periods):\n",
    "                if time >0:\n",
    "                    drift -= self.dt *self.vol*self.vol/(1 +self.dt* self.libor[i][time-1])\n",
    "                else:\n",
    "                    drift -= self.dt *self.vol*self.vol/(1 +self.dt* self.libor[i][time])\n",
    "        return drift\n",
    "                    \n",
    "        "
   ]
  },
  {
   "cell_type": "code",
   "execution_count": 88,
   "metadata": {
    "collapsed": true
   },
   "outputs": [],
   "source": [
    "class swaption():\n",
    "    def __init__(self, i_MC,libor_market,f_oisrate, f_freq = 4.0, f_notional = 100, f_maturity = 10.0, vol = 0.0085, f_strike = 0.003872, frozen = False):\n",
    "        self.i_MC = i_MC\n",
    "        self.libor_market = libor_market\n",
    "        self.f_oisrate = f_oisrate  # 10*4 ndarray created by using the HW01 method as the discount factor rate\n",
    "        self.f_freq = f_freq\n",
    "        self.f_notional = f_notional\n",
    "        self.f_maturity = f_maturity\n",
    "        self.vol = vol\n",
    "        self.f_strike = f_strike\n",
    "        self.frozen = frozen       \n",
    "    \n",
    "    def simulate(self, start_year):\n",
    "        tmp_value = 0.0\n",
    "        tenor = 1.0/self.f_freq\n",
    "        total_maturity = self.f_maturity + start_year\n",
    "        for i in range(self.i_MC):\n",
    "            libor_forward = (self.libor_market.simulate()).reshape(int(self.f_freq),int(total_maturity))\n",
    "            \n",
    "            value_ = 0.0\n",
    "            for t in range(start_year, int(total_maturity)):\n",
    "                for k in range(int(self.f_freq)):\n",
    "                    lb = libor_forward[t,k]\n",
    "                    time_to_mat = total_maturity - t - (k+1)*tenor\n",
    "                    ois_discount = disc_factor(start_year, self.f_oisrate, t,k)\n",
    "                    d1 = (log(self.strike/lb) + 0.5*(self.vol)**2*(time_to_mat))/(self.vol*sqrt(time_to_mat))\n",
    "                    d2 = d1 - self.vol * sqrt(time_to_mat)\n",
    "                    \n",
    "                    value += ois_discount*(lb*norm.cdf(-d2) - self.strike*norm.cdf(-d1))\n",
    "            tmp_value += value\n",
    "        simulated_value = self.f_notional*tenor*tmp_value/self.i_MC\n",
    "        return simulated_value\n",
    "    \n",
    "    def disc_factor(self, start_year, f_oisrate, t,k):\n",
    "        result = 1.0\n",
    "        if t == start_year:\n",
    "            for i in range(k+1):\n",
    "                result *= 1+self.f_oisrate[t, i]\n",
    "        else:\n",
    "            for i in range(start_year, t):\n",
    "                result *= np.prod(1+self.f_oisrate[i,:])\n",
    "            for m in range(k+1):\n",
    "                result *= 1+self.f_oisrate[t,m] \n",
    "        return 1/result    "
   ]
  },
  {
   "cell_type": "code",
   "execution_count": 89,
   "metadata": {
    "collapsed": false
   },
   "outputs": [
    {
     "ename": "ValueError",
     "evalue": "cannot copy sequence with size 4 to array axis with dimension 40",
     "output_type": "error",
     "traceback": [
      "\u001b[0;31m---------------------------------------------------------------------------\u001b[0m",
      "\u001b[0;31mValueError\u001b[0m                                Traceback (most recent call last)",
      "\u001b[0;32m<ipython-input-89-a763821af79b>\u001b[0m in \u001b[0;36m<module>\u001b[0;34m()\u001b[0m\n\u001b[0;32m----> 1\u001b[0;31m \u001b[0mlmm\u001b[0m \u001b[0;34m=\u001b[0m \u001b[0mthree_month_lmm\u001b[0m\u001b[0;34m(\u001b[0m\u001b[0;36m1\u001b[0m\u001b[0;34m,\u001b[0m\u001b[0;36m10\u001b[0m\u001b[0;34m,\u001b[0m\u001b[0;36m10\u001b[0m\u001b[0;34m,\u001b[0m\u001b[0;34m[\u001b[0m\u001b[0;36m1\u001b[0m\u001b[0;34m,\u001b[0m\u001b[0;36m2\u001b[0m\u001b[0;34m,\u001b[0m\u001b[0;36m3\u001b[0m\u001b[0;34m,\u001b[0m\u001b[0;36m4\u001b[0m\u001b[0;34m]\u001b[0m\u001b[0;34m,\u001b[0m\u001b[0mfrozen\u001b[0m \u001b[0;34m=\u001b[0m \u001b[0;32mFalse\u001b[0m\u001b[0;34m)\u001b[0m\u001b[0;34m\u001b[0m\u001b[0m\n\u001b[0m\u001b[1;32m      2\u001b[0m \u001b[0mlmm\u001b[0m\u001b[0;34m.\u001b[0m\u001b[0msimulate\u001b[0m\u001b[0;34m(\u001b[0m\u001b[0;34m)\u001b[0m\u001b[0;34m\u001b[0m\u001b[0m\n",
      "\u001b[0;32m<ipython-input-72-0363de713343>\u001b[0m in \u001b[0;36m__init__\u001b[0;34m(self, set_t, steps, mut_t, libor_init, frozen)\u001b[0m\n\u001b[1;32m      7\u001b[0m         \u001b[0mself\u001b[0m\u001b[0;34m.\u001b[0m\u001b[0mvol\u001b[0m        \u001b[0;34m=\u001b[0m \u001b[0;36m0.0085\u001b[0m\u001b[0;34m\u001b[0m\u001b[0m\n\u001b[1;32m      8\u001b[0m         \u001b[0mself\u001b[0m\u001b[0;34m.\u001b[0m\u001b[0mlibor\u001b[0m      \u001b[0;34m=\u001b[0m \u001b[0mnp\u001b[0m\u001b[0;34m.\u001b[0m\u001b[0mzeros\u001b[0m\u001b[0;34m(\u001b[0m\u001b[0;34m(\u001b[0m\u001b[0mself\u001b[0m\u001b[0;34m.\u001b[0m\u001b[0mperiods\u001b[0m\u001b[0;34m,\u001b[0m\u001b[0msteps\u001b[0m\u001b[0;34m+\u001b[0m\u001b[0;36m1\u001b[0m\u001b[0;34m)\u001b[0m\u001b[0;34m)\u001b[0m\u001b[0;34m\u001b[0m\u001b[0m\n\u001b[0;32m----> 9\u001b[0;31m         \u001b[0mself\u001b[0m\u001b[0;34m.\u001b[0m\u001b[0mlibor\u001b[0m\u001b[0;34m[\u001b[0m\u001b[0;34m:\u001b[0m\u001b[0;34m,\u001b[0m\u001b[0;36m0\u001b[0m\u001b[0;34m]\u001b[0m \u001b[0;34m=\u001b[0m \u001b[0mlibor_init\u001b[0m\u001b[0;34m\u001b[0m\u001b[0m\n\u001b[0m\u001b[1;32m     10\u001b[0m         \u001b[0mself\u001b[0m\u001b[0;34m.\u001b[0m\u001b[0minterval\u001b[0m   \u001b[0;34m=\u001b[0m \u001b[0mnp\u001b[0m\u001b[0;34m.\u001b[0m\u001b[0marray\u001b[0m\u001b[0;34m(\u001b[0m\u001b[0;34m[\u001b[0m\u001b[0;36m0.25\u001b[0m\u001b[0;34m*\u001b[0m\u001b[0mi\u001b[0m \u001b[0;32mfor\u001b[0m \u001b[0mi\u001b[0m \u001b[0;32min\u001b[0m \u001b[0mrange\u001b[0m\u001b[0;34m(\u001b[0m\u001b[0mmut_t\u001b[0m\u001b[0;34m)\u001b[0m\u001b[0;34m]\u001b[0m\u001b[0;34m)\u001b[0m\u001b[0;34m\u001b[0m\u001b[0m\n\u001b[1;32m     11\u001b[0m         \u001b[0mself\u001b[0m\u001b[0;34m.\u001b[0m\u001b[0mfrozen\u001b[0m     \u001b[0;34m=\u001b[0m  \u001b[0mfrozen\u001b[0m\u001b[0;34m\u001b[0m\u001b[0m\n",
      "\u001b[0;31mValueError\u001b[0m: cannot copy sequence with size 4 to array axis with dimension 40"
     ]
    }
   ],
   "source": [
    "lmm = three_month_lmm(1,10,10,[1,2,3,4],frozen = False)\n",
    "lmm.simulate()"
   ]
  },
  {
   "cell_type": "code",
   "execution_count": 86,
   "metadata": {
    "collapsed": false
   },
   "outputs": [
    {
     "ename": "IndexError",
     "evalue": "too many indices for array",
     "output_type": "error",
     "traceback": [
      "\u001b[0;31m---------------------------------------------------------------------------\u001b[0m",
      "\u001b[0;31mIndexError\u001b[0m                                Traceback (most recent call last)",
      "\u001b[0;32m<ipython-input-86-e925e48cc421>\u001b[0m in \u001b[0;36m<module>\u001b[0;34m()\u001b[0m\n\u001b[0;32m----> 1\u001b[0;31m \u001b[0mswaption1\u001b[0m \u001b[0;34m=\u001b[0m \u001b[0mswaption\u001b[0m\u001b[0;34m(\u001b[0m\u001b[0;36m2\u001b[0m\u001b[0;34m,\u001b[0m\u001b[0mlmm\u001b[0m\u001b[0;34m,\u001b[0m\u001b[0mois_rate\u001b[0m\u001b[0;34m,\u001b[0m \u001b[0;36m4.0\u001b[0m\u001b[0;34m,\u001b[0m \u001b[0;36m100\u001b[0m\u001b[0;34m,\u001b[0m \u001b[0;36m10.0\u001b[0m\u001b[0;34m,\u001b[0m\u001b[0;36m0.0085\u001b[0m\u001b[0;34m,\u001b[0m \u001b[0;36m0.003872\u001b[0m\u001b[0;34m,\u001b[0m \u001b[0;32mFalse\u001b[0m\u001b[0;34m)\u001b[0m\u001b[0;34m.\u001b[0m\u001b[0msimulate\u001b[0m\u001b[0;34m(\u001b[0m\u001b[0;36m1\u001b[0m\u001b[0;34m)\u001b[0m\u001b[0;34m\u001b[0m\u001b[0m\n\u001b[0m",
      "\u001b[0;32m<ipython-input-84-8e639a92f74f>\u001b[0m in \u001b[0;36msimulate\u001b[0;34m(self, start_year)\u001b[0m\n\u001b[1;32m     21\u001b[0m             \u001b[0;32mfor\u001b[0m \u001b[0mt\u001b[0m \u001b[0;32min\u001b[0m \u001b[0mrange\u001b[0m\u001b[0;34m(\u001b[0m\u001b[0mstart_year\u001b[0m\u001b[0;34m,\u001b[0m \u001b[0mint\u001b[0m\u001b[0;34m(\u001b[0m\u001b[0mtotal_maturity\u001b[0m\u001b[0;34m)\u001b[0m\u001b[0;34m)\u001b[0m\u001b[0;34m:\u001b[0m\u001b[0;34m\u001b[0m\u001b[0m\n\u001b[1;32m     22\u001b[0m                 \u001b[0;32mfor\u001b[0m \u001b[0mk\u001b[0m \u001b[0;32min\u001b[0m \u001b[0mrange\u001b[0m\u001b[0;34m(\u001b[0m\u001b[0mint\u001b[0m\u001b[0;34m(\u001b[0m\u001b[0mself\u001b[0m\u001b[0;34m.\u001b[0m\u001b[0mf_freq\u001b[0m\u001b[0;34m)\u001b[0m\u001b[0;34m)\u001b[0m\u001b[0;34m:\u001b[0m\u001b[0;34m\u001b[0m\u001b[0m\n\u001b[0;32m---> 23\u001b[0;31m                     \u001b[0mlb\u001b[0m \u001b[0;34m=\u001b[0m \u001b[0mlibor_forward\u001b[0m\u001b[0;34m[\u001b[0m\u001b[0mt\u001b[0m\u001b[0;34m,\u001b[0m\u001b[0mk\u001b[0m\u001b[0;34m]\u001b[0m\u001b[0;34m\u001b[0m\u001b[0m\n\u001b[0m\u001b[1;32m     24\u001b[0m                     \u001b[0mtime_to_mat\u001b[0m \u001b[0;34m=\u001b[0m \u001b[0mself\u001b[0m\u001b[0;34m.\u001b[0m\u001b[0mf_maturity\u001b[0m \u001b[0;34m-\u001b[0m \u001b[0mt\u001b[0m \u001b[0;34m-\u001b[0m \u001b[0;34m(\u001b[0m\u001b[0mk\u001b[0m\u001b[0;34m+\u001b[0m\u001b[0;36m1\u001b[0m\u001b[0;34m)\u001b[0m\u001b[0;34m*\u001b[0m\u001b[0mtenor\u001b[0m\u001b[0;34m\u001b[0m\u001b[0m\n\u001b[1;32m     25\u001b[0m                     \u001b[0mois_discount\u001b[0m \u001b[0;34m=\u001b[0m \u001b[0mdisc_factor\u001b[0m\u001b[0;34m(\u001b[0m\u001b[0mstart_year\u001b[0m\u001b[0;34m,\u001b[0m \u001b[0mself\u001b[0m\u001b[0;34m.\u001b[0m\u001b[0mf_oisrate\u001b[0m\u001b[0;34m,\u001b[0m \u001b[0mt\u001b[0m\u001b[0;34m,\u001b[0m\u001b[0mk\u001b[0m\u001b[0;34m)\u001b[0m\u001b[0;34m\u001b[0m\u001b[0m\n",
      "\u001b[0;31mIndexError\u001b[0m: too many indices for array"
     ]
    }
   ],
   "source": [
    "swaption1 = swaption(2,lmm,ois_rate, 4.0, 100, 10.0,0.0085, 0.003872, False).simulate(1)"
   ]
  },
  {
   "cell_type": "code",
   "execution_count": 39,
   "metadata": {
    "collapsed": true
   },
   "outputs": [],
   "source": [
    "f_oisrate = np.array([[0.01,0.012,0.009],\n",
    "                     [0.023,0.016,0.014],\n",
    "                     [0.018,0.013,0.011],\n",
    "                     [0.017,0.0155,0.0145]])\n",
    "def disc_factor(start, f_oisrate, t,k):\n",
    "    result = 1.0\n",
    "    if t == start:\n",
    "        for i in range(k+1):\n",
    "            result *= 1+f_oisrate[t, i]\n",
    "    else:\n",
    "        for i in range(start, t):\n",
    "            print('this is year: {}'.format(i))\n",
    "            result *= np.prod(1+f_oisrate[i,:])\n",
    "        for m in range(k+1):\n",
    "            print('this is season: {}'.format(m))\n",
    "            result *= 1+f_oisrate[t,m] \n",
    "    return 1/result    "
   ]
  },
  {
   "cell_type": "code",
   "execution_count": 40,
   "metadata": {
    "collapsed": false
   },
   "outputs": [
    {
     "name": "stdout",
     "output_type": "stream",
     "text": [
      "this is year: 1\n",
      "this is year: 2\n",
      "this is season: 0\n",
      "this is season: 1\n",
      "this is season: 2\n"
     ]
    },
    {
     "data": {
      "text/plain": [
       "0.86862313526495771"
      ]
     },
     "execution_count": 40,
     "metadata": {},
     "output_type": "execute_result"
    }
   ],
   "source": [
    "disc_factor(1,f_oisrate, 3,2)"
   ]
  },
  {
   "cell_type": "code",
   "execution_count": null,
   "metadata": {
    "collapsed": true
   },
   "outputs": [],
   "source": []
  }
 ],
 "metadata": {
  "kernelspec": {
   "display_name": "Python 3",
   "language": "python",
   "name": "python3"
  },
  "language_info": {
   "codemirror_mode": {
    "name": "ipython",
    "version": 3
   },
   "file_extension": ".py",
   "mimetype": "text/x-python",
   "name": "python",
   "nbconvert_exporter": "python",
   "pygments_lexer": "ipython3",
   "version": "3.5.2"
  }
 },
 "nbformat": 4,
 "nbformat_minor": 2
}
